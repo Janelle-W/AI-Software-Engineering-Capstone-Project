{
 "cells": [
  {
   "cell_type": "markdown",
   "metadata": {},
   "source": [
    "# Day 5 - Lab 1: Tool-Using Agents (Solution)\n",
    "\n",
    "**Objective:** Build agents that can use external tools to accomplish tasks they cannot perform on their own, using both LangChain and custom Python functions.\n",
    "\n",
    "**Introduction:**\n",
    "This solution notebook provides the complete code and explanations for building your first agents. It dives into the LangChain framework for control and flexibility, culminating in a multi-tool agent.\n",
    "\n",
    "For definitions of key terms used in this lab, please refer to the [GLOSSARY.md](../../GLOSSARY.md)."
   ]
  },
  {
   "cell_type": "markdown",
   "metadata": {},
   "source": [
    "## Step 1: Setup\n",
    "\n",
    "**Explanation:**\n",
    "We ensure all necessary libraries for this lab are installed. `langchain` and its related packages provide the core framework for building agents, while `tavily-python` is the SDK for the Tavily Search API, which our agent will use as a tool."
   ]
  },
  {
   "cell_type": "code",
   "execution_count": 1,
   "metadata": {},
   "outputs": [
    {
     "name": "stderr",
     "output_type": "stream",
     "text": [
      "2025-09-21 21:44:09,328 ag_aisoftdev.utils INFO LLM Client configured provider=openai model=gpt-4o latency_ms=None artifacts_path=None\n"
     ]
    }
   ],
   "source": [
    "import sys\n",
    "import os\n",
    "\n",
    "# Add the project's root directory to the Python path\n",
    "try:\n",
    "    project_root = os.path.abspath(os.path.join(os.getcwd(), '..', '..'))\n",
    "except IndexError:\n",
    "    project_root = os.path.abspath(os.path.join(os.getcwd()))\n",
    "\n",
    "if project_root not in sys.path:\n",
    "    sys.path.insert(0, project_root)\n",
    "\n",
    "# This helper will install packages if they are not found\n",
    "import importlib\n",
    "def install_if_missing(package):\n",
    "    try:\n",
    "        importlib.import_module(package)\n",
    "    except ImportError:\n",
    "        print(f\"{package} not found, installing...\")\n",
    "        import subprocess\n",
    "        subprocess.check_call([sys.executable, \"-m\", \"pip\", \"install\", \"-q\", package])\n",
    "\n",
    "install_if_missing('langchain')\n",
    "install_if_missing('langchain_community')\n",
    "install_if_missing('langchain_openai')\n",
    "install_if_missing('tavily')\n",
    "\n",
    "from utils import setup_llm_client\n",
    "client, model_name, api_provider = setup_llm_client(model_name=\"gpt-4o\")"
   ]
  },
  {
   "cell_type": "markdown",
   "metadata": {},
   "source": [
    "## Step 2: The Challenges - Solutions"
   ]
  },
  {
   "cell_type": "markdown",
   "metadata": {},
   "source": [
    "### Challenge 1 (Foundational): Building a LangChain Agent with One Tool\n",
    "\n",
    "**Explanation:**\n",
    "LangChain provides a modular and flexible way to build agents. \n",
    "1.  **Tool:** We instantiate `TavilySearchResults`, which is a pre-built LangChain component that knows how to call the Tavily API.\n",
    "2.  **Prompt:** The prompt is crucial. `ChatPromptTemplate.from_messages` creates a template for the conversation. The key part is the `(\"placeholder\", \"{agent_scratchpad}\")`. The `agent_scratchpad` is a special variable where the agent's internal monologue (its thoughts, tool calls, and tool outputs) is stored. This allows the agent to reason about its actions.\n",
    "3.  **Agent:** `create_tool_calling_agent` binds the LLM, the tools, and the prompt together into a runnable agent.\n",
    "4.  **AgentExecutor:** This is the runtime for the agent. It takes the agent and the tools and handles the logic of calling the agent, parsing its output to see if it wants to use a tool, executing the tool, and passing the result back to the agent to continue its reasoning."
   ]
  },
  {
   "cell_type": "code",
   "execution_count": 2,
   "metadata": {},
   "outputs": [
    {
     "name": "stderr",
     "output_type": "stream",
     "text": [
      "/var/folders/gk/hk1464k11yg67s5xbrchbgsm0000gn/T/ipykernel_74695/1400420693.py:10: LangChainDeprecationWarning: The class `TavilySearchResults` was deprecated in LangChain 0.3.25 and will be removed in 1.0. An updated version of the class exists in the :class:`~langchain-tavily package and should be used instead. To use it run `pip install -U :class:`~langchain-tavily` and import as `from :class:`~langchain_tavily import TavilySearch``.\n",
      "  search_tool = TavilySearchResults(max_results=2)\n"
     ]
    },
    {
     "name": "stdout",
     "output_type": "stream",
     "text": [
      "\n",
      "\n",
      "\u001b[1m> Entering new AgentExecutor chain...\u001b[0m\n",
      "\u001b[32;1m\u001b[1;3m\n",
      "Invoking: `tavily_search_results_json` with `{'query': 'last Super Bowl score'}`\n",
      "\n",
      "\n",
      "\u001b[0m\u001b[36;1m\u001b[1;3m[{'title': 'Kansas City Chiefs vs. Philadelphia Eagles - Final Score - FOX Sports', 'url': 'https://www.foxsports.com/nfl/2025-super-bowl-lix-kansas-city-chiefs-vs-philadelphia-eagles-feb-09-2025-game-boxscore-10702', 'content': 'SUPER BOWL Image 23: Chiefs Chiefs 14-3 KC 14-3 38 Image 24: Eagles Eagles 14-3 PHI 14-3 35 FINAL 2/12/23\\n\\nImage 25: Chiefs Chiefs 2-2 KC 2-2 42 Image 26: Eagles Eagles 1-3 PHI 1-3 30 FINAL 10/3/21\\n\\nStories\\n\\n9', 'score': 0.62687886}, {'title': 'Super Bowl Winners and Results | FOX Sports', 'url': 'https://www.foxsports.com/nfl-super-bowl-winners-and-results', 'content': \"| LVII | State Farm Stadium | Feb. 12, 2023 | Kansas City 38, Philadelphia 35 |\\n| LVIII | Allegiant Stadium | Feb. 11, 2024 | Kansas City 25, San Francisco 22 |\\n| LIX | Caesars Superdome | Feb. 9, 2025 | Philadelphia 40, Kansas City 22 | [...] | XXVI | Metrodome | Jan. 26, 1992 | Washington 37, Buffalo 24 |\\n| XXVII | Rose Bowl | Jan. 31, 1993 | Dallas 52, Buffalo 17 |\\n| XXVIII | Georgia Dome | Jan. 30, 1994 | Dallas 30, Buffalo 13 |\\n| XXIX | Joe Robbie Stadium | Jan. 29, 1995 | San Francisco 49, San Diego 26 |\\n| XXX | Sun Devil Stadium | Jan. 28, 1996 | Dallas 27, Pittsburgh 17 |\\n| XXXI | Louisiana Superdome | Jan. 26, 1997 | Green Bay 35, New England 21 |\\n| XXXII | Qualcomm Stadium | Jan. 25, 1998 | Denver 31, Green Bay 24 | [...] | XLV | Cowboys Stadium | Feb. 6, 2011 | Green Bay 31, Pittsburgh 25 |\\n| XLVI | Lucas Oil Stadium | Feb. 5, 2012 | New York Giants 21, New England 17 |\\n| XLVII | Mercedes-Benz Superdome | Feb. 3, 2013 | Baltimore 34, San Francisco 31 |\\n| XLVIII | MetLife Stadium | Feb. 2, 2014 | Seattle 43, Denver 8 |\\n| XLIX | University of Phoenix Stadium | Feb. 1, 2015 | New England 28, Seattle 24 |\\n| 50 | Levi's Stadium | Feb. 7, 2016 | Denver 24, Carolina 10 |\", 'score': 0.61196244}]\u001b[0m\u001b[32;1m\u001b[1;3mThe last Super Bowl, which was Super Bowl LVII, took place on February 12, 2023. The Kansas City Chiefs defeated the Philadelphia Eagles with a score of 38-35.\u001b[0m\n",
      "\n",
      "\u001b[1m> Finished chain.\u001b[0m\n",
      "\n",
      "Final Answer: The last Super Bowl, which was Super Bowl LVII, took place on February 12, 2023. The Kansas City Chiefs defeated the Philadelphia Eagles with a score of 38-35.\n"
     ]
    }
   ],
   "source": [
    "from langchain_community.tools.tavily_search import TavilySearchResults\n",
    "from langchain.agents import create_tool_calling_agent, AgentExecutor\n",
    "from langchain_core.prompts import ChatPromptTemplate\n",
    "from langchain_openai import ChatOpenAI\n",
    "\n",
    "# We need to use a LangChain LLM wrapper\n",
    "llm = ChatOpenAI(model=model_name)\n",
    "\n",
    "# 1. Instantiate the Tavily search tool\n",
    "search_tool = TavilySearchResults(max_results=2)\n",
    "tools = [search_tool]\n",
    "\n",
    "# 2. Create the prompt template\n",
    "prompt = ChatPromptTemplate.from_messages([\n",
    "    (\"system\", \"You are a helpful assistant.\"),\n",
    "    (\"user\", \"{input}\"),\n",
    "    (\"placeholder\", \"{agent_scratchpad}\"),\n",
    "])\n",
    "\n",
    "# 3. Create the agent\n",
    "agent = create_tool_calling_agent(llm, tools, prompt)\n",
    "\n",
    "# 4. Create the AgentExecutor\n",
    "agent_executor = AgentExecutor(agent=agent, tools=tools, verbose=True)\n",
    "\n",
    "# 5. Invoke the agent with a question\n",
    "question = \"What was the score of the last Super Bowl?\"\n",
    "result = agent_executor.invoke({\"input\": question})\n",
    "\n",
    "print(f\"\\nFinal Answer: {result['output']}\")"
   ]
  },
  {
   "cell_type": "markdown",
   "metadata": {},
   "source": [
    "### Challenge 2 (Intermediate): Building a Multi-Tool Agent\n",
    "\n",
    "**Explanation:**\n",
    "This challenge demonstrates the core reasoning power of an agent. \n",
    "1.  **`@tool` Decorator:** LangChain provides a simple `@tool` decorator to turn any Python function into a tool that an agent can use. The function's docstring is very important, as the agent uses it to understand what the tool does.\n",
    "2.  **Tool List:** We create a new list containing both our custom `multiply` tool and the pre-built `TavilySearchResults` tool.\n",
    "3.  **Reasoning:** When the agent receives a query, it looks at the user's question and the docstrings of all available tools. It then makes a decision about which tool, if any, is the most appropriate for the task. This ability to choose the right tool for the job is the fundamental capability of an agent. For \"25 * 48\", it will see the \"Multiplies two integers\" docstring and choose the `multiply` tool. For \"Who is the CEO of Apple?\", it will recognize that it needs external information and choose the search tool."
   ]
  },
  {
   "cell_type": "code",
   "execution_count": 3,
   "metadata": {},
   "outputs": [
    {
     "name": "stdout",
     "output_type": "stream",
     "text": [
      "\n",
      "\n",
      "\u001b[1m> Entering new AgentExecutor chain...\u001b[0m\n",
      "\u001b[32;1m\u001b[1;3m\n",
      "Invoking: `multiply` with `{'a': 25, 'b': 48}`\n",
      "\n",
      "\n",
      "\u001b[0m\u001b[33;1m\u001b[1;3m1200\u001b[0m\u001b[32;1m\u001b[1;3mThe result of \\( 25 \\times 48 \\) is 1200.\u001b[0m\n",
      "\n",
      "\u001b[1m> Finished chain.\u001b[0m\n",
      "\n",
      "Query: What is 25 * 48?\n",
      "Final Answer: The result of \\( 25 \\times 48 \\) is 1200.\n",
      "\n",
      "\n",
      "\n",
      "\u001b[1m> Entering new AgentExecutor chain...\u001b[0m\n",
      "\u001b[32;1m\u001b[1;3m\n",
      "Invoking: `tavily_search_results_json` with `{'query': 'current CEO of Apple 2023'}`\n",
      "\n",
      "\n",
      "\u001b[0m\u001b[36;1m\u001b[1;3m[{'title': 'Apple Leadership', 'url': 'https://www.apple.com/leadership/', 'content': '# Executive Profiles\\n\\n### Tim Cook\\n\\n#### CEO\\n\\n### Katherine Adams\\n\\n#### Senior Vice President and General Counsel\\n\\n### Eddy Cue\\n\\n#### Senior Vice President Services\\n\\n### Craig Federighi\\n\\n#### Senior Vice President Software Engineering\\n\\n### John Giannandrea\\n\\n#### Senior Vice President Machine Learning and AI Strategy\\n\\n### Greg “Joz” Joswiak\\n\\n#### Senior Vice President Worldwide Marketing\\n\\n### Sabih Khan\\n\\n#### Chief Operating Officer\\n\\n### Deirdre O’Brien\\n\\n#### Senior Vice President Retail + People [...] ### Kevan Parekh\\n\\n#### Senior Vice President and Chief Financial Officer\\n\\n### Johny Srouji\\n\\n#### Senior Vice President Hardware Technologies\\n\\n### John Ternus\\n\\n#### Senior Vice President Hardware Engineering\\n\\n### Jeff Williams\\n\\n#### Senior Vice President Design, Watch, and Health\\n\\n### Mike Fenger\\n\\n#### Vice President\\u2028 Worldwide Sales\\n\\n### Lisa Jackson\\n\\n#### Vice President Environment, Policy and Social Initiatives\\n\\n### Luca Maestri\\n\\n#### Vice President Corporate Services\\n\\n### Isabel Ge Mahe [...] #### CEO Apple\\n\\n### Alex Gorsky\\n\\n#### Former Executive Chair Johnson & Johnson\\n\\n### Andrea Jung\\n\\n#### President and CEO Grameen America\\n\\n### Monica Lozano\\n\\n#### Former President and CEO College Futures Foundation\\n\\n### Ronald D. Sugar, Ph.D.\\n\\n#### Former Chair and CEO Northrop Grumman Corporation\\n\\n### Susan L. Wagner\\n\\n#### Co-Founder and Director BlackRock\\n\\n#### Apple Media Helpline\\n\\n(408) 974-2042\\n\\n## Apple Footer\\n\\n### Shop and Learn Shop and Learn\\n\\n### Apple Wallet Apple Wallet', 'score': 0.7192461}, {'title': \"Here's How Much Apple CEO Tim Cook Got As Salary In 2023\", 'url': \"https://philanthropynewsdigest.org/news/other-sources/article/?id=14521941&title=Here's-How-Much-Apple-CEO-Tim-Cook-Got-As-Salary-In-2023\", 'content': '## The nonprofit news you need\\n\\nGet the latest nonprofit news, funding opportunities, job openings, and more delivered to your inbox with Philanthropy News Digest newsletters.\\n\\nCandid gets you the information you need to do good.\\n\\nTo subscribe, select any of the newsletters listed below. [...] Youth-focused mental health services can promote well-being, resilience, and a sense of belong\\xading to youths’ larger community, and there is a need for services that are responsive to a young person’s identity and cultural background, a new report from the Annie E. Casey Foundation finds.\\n\\nHow should nonprofits address mental health assistance for youth of color?\\n\\n2023 Winter FDO Half-page - 300x600 (A)\")\\n\\nTo subscribe, select any of the newsletters listed below. [...] # Candid\\n\\nCandid\\n\\n## Philanthropy News Digest\\n\\nmenu\\n\\nOops! We didn\\'t find anything on that query, try again with a different query!\\n\\nNo results found.\\n\\nThis content has been removed. Get more news at Philanthropy News Digest.\"\\n\\nCandid - 2024 Compensation Report\\nCrafting compelling grant proposals\\n\\n### Poll', 'score': 0.6757865}]\u001b[0m\u001b[32;1m\u001b[1;3mThe current CEO of Apple as of 2023 is Tim Cook.\u001b[0m\n",
      "\n",
      "\u001b[1m> Finished chain.\u001b[0m\n",
      "\n",
      "Query: Who is the current CEO of Apple?\n",
      "Final Answer: The current CEO of Apple as of 2023 is Tim Cook.\n"
     ]
    }
   ],
   "source": [
    "from langchain_core.tools import tool\n",
    "\n",
    "# 1. Define your custom calculator tool\n",
    "@tool\n",
    "def multiply(a: int, b: int) -> int:\n",
    "    \"\"\"Multiplies two integers together.\"\"\"\n",
    "    return a * b\n",
    "\n",
    "# 2. Create the new list of tools\n",
    "multi_tool_list = [TavilySearchResults(max_results=2), multiply]\n",
    "\n",
    "# 3. Create the new multi-tool agent and executor\n",
    "multi_tool_agent = create_tool_calling_agent(llm, multi_tool_list, prompt)\n",
    "multi_tool_executor = AgentExecutor(agent=multi_tool_agent, tools=multi_tool_list, verbose=True)\n",
    "\n",
    "# 4. Invoke the agent with a math question\n",
    "math_question = \"What is 25 * 48?\"\n",
    "math_result = multi_tool_executor.invoke({\"input\": math_question})\n",
    "print(f\"\\nQuery: {math_question}\\nFinal Answer: {math_result['output']}\\n\")\n",
    "\n",
    "# 5. Invoke the agent with a search question\n",
    "search_question = \"Who is the current CEO of Apple?\"\n",
    "search_result = multi_tool_executor.invoke({\"input\": search_question})\n",
    "print(f\"\\nQuery: {search_question}\\nFinal Answer: {search_result['output']}\")"
   ]
  },
  {
   "cell_type": "markdown",
   "metadata": {},
   "source": [
    "### Challenge 3 (Advanced): Improving Tool Selection with Better Docstrings\n",
    "\n",
    "**Explanation:**\n",
    "This challenge highlights the importance of 'prompt engineering' your tool's docstrings. The agent's reasoning process is heavily influenced by the descriptions of the tools it has available. A vague docstring might lead the agent to ignore a tool or use it incorrectly. A highly descriptive docstring, as shown in the solution, gives the agent a much clearer signal about the tool's purpose, leading to more reliable and efficient tool selection."
   ]
  },
  {
   "cell_type": "code",
   "execution_count": 4,
   "metadata": {},
   "outputs": [
    {
     "name": "stdout",
     "output_type": "stream",
     "text": [
      "\n",
      "\n",
      "\u001b[1m> Entering new AgentExecutor chain...\u001b[0m\n",
      "\u001b[32;1m\u001b[1;3m\n",
      "Invoking: `better_multiply` with `{'a': 25, 'b': 48}`\n",
      "\n",
      "\n",
      "\u001b[0m\u001b[33;1m\u001b[1;3m1200\u001b[0m\u001b[32;1m\u001b[1;3mThe product of 25 and 48 is 1200.\u001b[0m\n",
      "\n",
      "\u001b[1m> Finished chain.\u001b[0m\n",
      "\n",
      "Query: What is 25 * 48?\n",
      "Final Answer: The product of 25 and 48 is 1200.\n"
     ]
    }
   ],
   "source": [
    "# 1. Redefine your custom tool with a more descriptive docstring.\n",
    "@tool\n",
    "def better_multiply(a: int, b: int) -> int:\n",
    "    \"\"\"Use this tool for mathematical calculations involving multiplication. It takes two integers as input and returns their product.\"\"\"\n",
    "    return a * b\n",
    "\n",
    "# 2. Re-create the tool list, agent, and executor with the improved tool.\n",
    "improved_tool_list = [TavilySearchResults(max_results=2), better_multiply]\n",
    "improved_agent = create_tool_calling_agent(llm, improved_tool_list, prompt)\n",
    "improved_executor = AgentExecutor(agent=improved_agent, tools=improved_tool_list, verbose=True)\n",
    "\n",
    "# 3. Invoke the agent again.\n",
    "math_question = \"What is 25 * 48?\"\n",
    "improved_math_result = improved_executor.invoke({\"input\": math_question})\n",
    "print(f\"\\nQuery: {math_question}\\nFinal Answer: {improved_math_result['output']}\")"
   ]
  },
  {
   "cell_type": "markdown",
   "metadata": {},
   "source": [
    "## Lab Conclusion\n",
    "\n",
    "Congratulations! You have successfully built your first AI agents. You've learned how to give agents tools to extend their capabilities and, most importantly, how to build an agent that can reason about which tool to use for a specific task. This is the foundational skill for all advanced agentic workflows we will explore in the coming days.\n",
    "\n",
    "> **Key Takeaway:** An agent's ability to reason and act depends on its understanding of its tools. The most critical part of creating a custom tool is writing a clear, descriptive docstring that tells the agent exactly what the tool does and when to use it."
   ]
  }
 ],
 "metadata": {
  "kernelspec": {
   "display_name": ".venv",
   "language": "python",
   "name": "python3"
  },
  "language_info": {
   "codemirror_mode": {
    "name": "ipython",
    "version": 3
   },
   "file_extension": ".py",
   "mimetype": "text/x-python",
   "name": "python",
   "nbconvert_exporter": "python",
   "pygments_lexer": "ipython3",
   "version": "3.11.13"
  }
 },
 "nbformat": 4,
 "nbformat_minor": 4
}
